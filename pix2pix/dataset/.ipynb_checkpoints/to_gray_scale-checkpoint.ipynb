{
 "cells": [
  {
   "cell_type": "code",
   "execution_count": 13,
   "metadata": {},
   "outputs": [],
   "source": [
    "import os\n",
    "import nibabel as nib\n",
    "import numpy as np\n",
    "import matplotlib.pyplot as plt"
   ]
  },
  {
   "cell_type": "code",
   "execution_count": null,
   "metadata": {},
   "outputs": [],
   "source": [
    "files = os.listdir(\".\")\n",
    "\n",
    "for file in files:\n",
    "    if (not os.path.isdir(file) and file.split(\".\")[-2] == \"nii\"):\n",
    "        data = nib.load(file).get_fdata()\n",
    "        mask = data\n",
    "        mask[mask == 0] = 0\n",
    "        oldRange = (data.max() - data.min())  \n",
    "        newRange = (255 - 0)  \n",
    "        newValue = (((data - data.min()) * newRange) / oldRange) * mask \n",
    "        newValue = np.array(newValue, dtype=np.uint16)\n",
    "        nifti = nib.Nifti1Image(newValue, np.eye(4))\n",
    "        nib.save(nifti, file)"
   ]
  },
  {
   "cell_type": "code",
   "execution_count": null,
   "metadata": {
    "collapsed": true
   },
   "outputs": [],
   "source": []
  }
 ],
 "metadata": {
  "kernelspec": {
   "display_name": "Python 3",
   "language": "python",
   "name": "python3"
  },
  "language_info": {
   "codemirror_mode": {
    "name": "ipython",
    "version": 3
   },
   "file_extension": ".py",
   "mimetype": "text/x-python",
   "name": "python",
   "nbconvert_exporter": "python",
   "pygments_lexer": "ipython3",
   "version": "3.6.1"
  }
 },
 "nbformat": 4,
 "nbformat_minor": 2
}
